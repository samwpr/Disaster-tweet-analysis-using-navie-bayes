{
 "cells": [
  {
   "cell_type": "code",
   "execution_count": 156,
   "metadata": {},
   "outputs": [],
   "source": [
    "import re \n",
    "import nltk \n",
    "import string \n",
    "import warnings \n",
    "import numpy as np\n",
    "import pandas as pd \n",
    "import seaborn as sns\n",
    "import matplotlib.pyplot as plt\n",
    "import ssl\n"
   ]
  },
  {
   "cell_type": "code",
   "execution_count": 157,
   "metadata": {},
   "outputs": [
    {
     "name": "stdout",
     "output_type": "stream",
     "text": [
      "showing info https://raw.githubusercontent.com/nltk/nltk_data/gh-pages/index.xml\n"
     ]
    },
    {
     "name": "stderr",
     "output_type": "stream",
     "text": [
      "[nltk_data] Downloading package stopwords to /Users/sam/nltk_data...\n",
      "[nltk_data]   Package stopwords is already up-to-date!\n"
     ]
    }
   ],
   "source": [
    "try:\n",
    "    _create_unverified_https_context = ssl._create_unverified_context\n",
    "except AttributeError:\n",
    "    pass\n",
    "else:\n",
    "    ssl._create_default_https_context = _create_unverified_https_context\n",
    "\n",
    "nltk.download()\n",
    "nltk.download('stopwords')\n",
    "from nltk.corpus import stopwords"
   ]
  },
  {
   "cell_type": "code",
   "execution_count": 158,
   "metadata": {},
   "outputs": [],
   "source": [
    "pd.set_option(\"display.max_colwidth\", 200)\n",
    "warnings.filterwarnings(\"ignore\", category=DeprecationWarning)\n",
    "%matplotlib inline"
   ]
  },
  {
   "cell_type": "markdown",
   "metadata": {},
   "source": [
    "Import CSV Data Files"
   ]
  },
  {
   "cell_type": "code",
   "execution_count": 159,
   "metadata": {},
   "outputs": [],
   "source": [
    "train = pd.read_csv(\"train.csv\")\n",
    "test = pd.read_csv(\"test.csv\")"
   ]
  },
  {
   "cell_type": "markdown",
   "metadata": {},
   "source": [
    "Exploratory Data Analysis "
   ]
  },
  {
   "cell_type": "code",
   "execution_count": 160,
   "metadata": {},
   "outputs": [
    {
     "data": {
      "text/html": [
       "<div>\n",
       "<style scoped>\n",
       "    .dataframe tbody tr th:only-of-type {\n",
       "        vertical-align: middle;\n",
       "    }\n",
       "\n",
       "    .dataframe tbody tr th {\n",
       "        vertical-align: top;\n",
       "    }\n",
       "\n",
       "    .dataframe thead th {\n",
       "        text-align: right;\n",
       "    }\n",
       "</style>\n",
       "<table border=\"1\" class=\"dataframe\">\n",
       "  <thead>\n",
       "    <tr style=\"text-align: right;\">\n",
       "      <th></th>\n",
       "      <th>id</th>\n",
       "      <th>keyword</th>\n",
       "      <th>location</th>\n",
       "      <th>text</th>\n",
       "      <th>target</th>\n",
       "    </tr>\n",
       "  </thead>\n",
       "  <tbody>\n",
       "    <tr>\n",
       "      <th>0</th>\n",
       "      <td>1</td>\n",
       "      <td>NaN</td>\n",
       "      <td>NaN</td>\n",
       "      <td>Our Deeds are the Reason of this #earthquake May ALLAH Forgive us all</td>\n",
       "      <td>1</td>\n",
       "    </tr>\n",
       "    <tr>\n",
       "      <th>1</th>\n",
       "      <td>4</td>\n",
       "      <td>NaN</td>\n",
       "      <td>NaN</td>\n",
       "      <td>Forest fire near La Ronge Sask. Canada</td>\n",
       "      <td>1</td>\n",
       "    </tr>\n",
       "    <tr>\n",
       "      <th>2</th>\n",
       "      <td>5</td>\n",
       "      <td>NaN</td>\n",
       "      <td>NaN</td>\n",
       "      <td>All residents asked to 'shelter in place' are being notified by officers. No other evacuation or shelter in place orders are expected</td>\n",
       "      <td>1</td>\n",
       "    </tr>\n",
       "  </tbody>\n",
       "</table>\n",
       "</div>"
      ],
      "text/plain": [
       "   id keyword location  \\\n",
       "0   1     NaN      NaN   \n",
       "1   4     NaN      NaN   \n",
       "2   5     NaN      NaN   \n",
       "\n",
       "                                                                                                                                    text  \\\n",
       "0                                                                  Our Deeds are the Reason of this #earthquake May ALLAH Forgive us all   \n",
       "1                                                                                                 Forest fire near La Ronge Sask. Canada   \n",
       "2  All residents asked to 'shelter in place' are being notified by officers. No other evacuation or shelter in place orders are expected   \n",
       "\n",
       "   target  \n",
       "0       1  \n",
       "1       1  \n",
       "2       1  "
      ]
     },
     "execution_count": 160,
     "metadata": {},
     "output_type": "execute_result"
    }
   ],
   "source": [
    "train[train['target'] == 1].head(3)"
   ]
  },
  {
   "cell_type": "code",
   "execution_count": 161,
   "metadata": {},
   "outputs": [
    {
     "data": {
      "text/html": [
       "<div>\n",
       "<style scoped>\n",
       "    .dataframe tbody tr th:only-of-type {\n",
       "        vertical-align: middle;\n",
       "    }\n",
       "\n",
       "    .dataframe tbody tr th {\n",
       "        vertical-align: top;\n",
       "    }\n",
       "\n",
       "    .dataframe thead th {\n",
       "        text-align: right;\n",
       "    }\n",
       "</style>\n",
       "<table border=\"1\" class=\"dataframe\">\n",
       "  <thead>\n",
       "    <tr style=\"text-align: right;\">\n",
       "      <th></th>\n",
       "      <th>id</th>\n",
       "      <th>keyword</th>\n",
       "      <th>location</th>\n",
       "      <th>text</th>\n",
       "      <th>target</th>\n",
       "    </tr>\n",
       "  </thead>\n",
       "  <tbody>\n",
       "    <tr>\n",
       "      <th>15</th>\n",
       "      <td>23</td>\n",
       "      <td>NaN</td>\n",
       "      <td>NaN</td>\n",
       "      <td>What's up man?</td>\n",
       "      <td>0</td>\n",
       "    </tr>\n",
       "    <tr>\n",
       "      <th>16</th>\n",
       "      <td>24</td>\n",
       "      <td>NaN</td>\n",
       "      <td>NaN</td>\n",
       "      <td>I love fruits</td>\n",
       "      <td>0</td>\n",
       "    </tr>\n",
       "    <tr>\n",
       "      <th>17</th>\n",
       "      <td>25</td>\n",
       "      <td>NaN</td>\n",
       "      <td>NaN</td>\n",
       "      <td>Summer is lovely</td>\n",
       "      <td>0</td>\n",
       "    </tr>\n",
       "  </tbody>\n",
       "</table>\n",
       "</div>"
      ],
      "text/plain": [
       "    id keyword location              text  target\n",
       "15  23     NaN      NaN    What's up man?       0\n",
       "16  24     NaN      NaN     I love fruits       0\n",
       "17  25     NaN      NaN  Summer is lovely       0"
      ]
     },
     "execution_count": 161,
     "metadata": {},
     "output_type": "execute_result"
    }
   ],
   "source": [
    "train[train['target'] == 0].head(3)"
   ]
  },
  {
   "cell_type": "code",
   "execution_count": null,
   "metadata": {},
   "outputs": [],
   "source": []
  },
  {
   "cell_type": "code",
   "execution_count": null,
   "metadata": {},
   "outputs": [],
   "source": []
  },
  {
   "cell_type": "code",
   "execution_count": 162,
   "metadata": {},
   "outputs": [
    {
     "data": {
      "text/html": [
       "<div>\n",
       "<style scoped>\n",
       "    .dataframe tbody tr th:only-of-type {\n",
       "        vertical-align: middle;\n",
       "    }\n",
       "\n",
       "    .dataframe tbody tr th {\n",
       "        vertical-align: top;\n",
       "    }\n",
       "\n",
       "    .dataframe thead th {\n",
       "        text-align: right;\n",
       "    }\n",
       "</style>\n",
       "<table border=\"1\" class=\"dataframe\">\n",
       "  <thead>\n",
       "    <tr style=\"text-align: right;\">\n",
       "      <th></th>\n",
       "      <th>id</th>\n",
       "      <th>keyword</th>\n",
       "      <th>location</th>\n",
       "      <th>text</th>\n",
       "    </tr>\n",
       "  </thead>\n",
       "  <tbody>\n",
       "    <tr>\n",
       "      <th>0</th>\n",
       "      <td>0</td>\n",
       "      <td>NaN</td>\n",
       "      <td>NaN</td>\n",
       "      <td>Just happened a terrible car crash</td>\n",
       "    </tr>\n",
       "    <tr>\n",
       "      <th>1</th>\n",
       "      <td>2</td>\n",
       "      <td>NaN</td>\n",
       "      <td>NaN</td>\n",
       "      <td>Heard about #earthquake is different cities, stay safe everyone.</td>\n",
       "    </tr>\n",
       "    <tr>\n",
       "      <th>2</th>\n",
       "      <td>3</td>\n",
       "      <td>NaN</td>\n",
       "      <td>NaN</td>\n",
       "      <td>there is a forest fire at spot pond, geese are fleeing across the street, I cannot save them all</td>\n",
       "    </tr>\n",
       "    <tr>\n",
       "      <th>3</th>\n",
       "      <td>9</td>\n",
       "      <td>NaN</td>\n",
       "      <td>NaN</td>\n",
       "      <td>Apocalypse lighting. #Spokane #wildfires</td>\n",
       "    </tr>\n",
       "    <tr>\n",
       "      <th>4</th>\n",
       "      <td>11</td>\n",
       "      <td>NaN</td>\n",
       "      <td>NaN</td>\n",
       "      <td>Typhoon Soudelor kills 28 in China and Taiwan</td>\n",
       "    </tr>\n",
       "  </tbody>\n",
       "</table>\n",
       "</div>"
      ],
      "text/plain": [
       "   id keyword location  \\\n",
       "0   0     NaN      NaN   \n",
       "1   2     NaN      NaN   \n",
       "2   3     NaN      NaN   \n",
       "3   9     NaN      NaN   \n",
       "4  11     NaN      NaN   \n",
       "\n",
       "                                                                                               text  \n",
       "0                                                                Just happened a terrible car crash  \n",
       "1                                  Heard about #earthquake is different cities, stay safe everyone.  \n",
       "2  there is a forest fire at spot pond, geese are fleeing across the street, I cannot save them all  \n",
       "3                                                          Apocalypse lighting. #Spokane #wildfires  \n",
       "4                                                     Typhoon Soudelor kills 28 in China and Taiwan  "
      ]
     },
     "execution_count": 162,
     "metadata": {},
     "output_type": "execute_result"
    }
   ],
   "source": [
    "test.head()"
   ]
  },
  {
   "cell_type": "code",
   "execution_count": 163,
   "metadata": {},
   "outputs": [
    {
     "data": {
      "text/plain": [
       "(7613, 5)"
      ]
     },
     "execution_count": 163,
     "metadata": {},
     "output_type": "execute_result"
    }
   ],
   "source": [
    "train.shape"
   ]
  },
  {
   "cell_type": "code",
   "execution_count": 164,
   "metadata": {},
   "outputs": [
    {
     "data": {
      "text/plain": [
       "(3263, 4)"
      ]
     },
     "execution_count": 164,
     "metadata": {},
     "output_type": "execute_result"
    }
   ],
   "source": [
    "test.shape"
   ]
  },
  {
   "cell_type": "code",
   "execution_count": 165,
   "metadata": {},
   "outputs": [
    {
     "data": {
      "image/png": "[encoded data removed]",
      "text/plain": [
       "<Figure size 640x480 with 1 Axes>"
      ]
     },
     "metadata": {},
     "output_type": "display_data"
    }
   ],
   "source": [
    "ax = train['target'].value_counts().sort_index()\\\n",
    "    .plot(\n",
    "        kind = 'bar',\n",
    "        title = 'Non-Disaster vs Disaster Tweets'\n",
    "    )\n",
    "\n",
    "ax.set_xlabel(\"0 = Non-Disaster, 1 = Disaster\")\n",
    "plt.show()"
   ]
  },
  {
   "cell_type": "code",
   "execution_count": 166,
   "metadata": {},
   "outputs": [
    {
     "data": {
      "image/png": "[encoded data removed]",
      "text/plain": [
       "<Figure size 640x480 with 1 Axes>"
      ]
     },
     "metadata": {},
     "output_type": "display_data"
    }
   ],
   "source": [
    "length_train = train['text'].str.len()\n",
    "target_train = train['target']\n",
    "\n",
    "plt.hist(length_train, bins=1,label=\"Train tweets\")\n",
    "plt.hist(target_train, bins=1,label=\"Test tweets\")\n",
    "\n",
    "plt.legend()\n",
    "plt.show()"
   ]
  },
  {
   "cell_type": "code",
   "execution_count": 167,
   "metadata": {},
   "outputs": [
    {
     "data": {
      "image/png": "[encoded data removed]",
      "text/plain": [
       "<Figure size 640x480 with 1 Axes>"
      ]
     },
     "metadata": {},
     "output_type": "display_data"
    }
   ],
   "source": [
    "length_train = train['text'].str.len()\n",
    "length_test = test['text'].str.len()\n",
    "\n",
    "plt.hist(length_train, bins=20, label=\"Train tweets\")\n",
    "plt.hist(length_test, bins=20, label=\"Test tweets\")\n",
    "\n",
    "plt.legend()\n",
    "plt.show()"
   ]
  },
  {
   "cell_type": "markdown",
   "metadata": {},
   "source": [
    "REMOVE LINKS "
   ]
  },
  {
   "cell_type": "markdown",
   "metadata": {},
   "source": [
    "Cleaning Trained Dataset"
   ]
  },
  {
   "cell_type": "code",
   "execution_count": 168,
   "metadata": {},
   "outputs": [
    {
     "name": "stderr",
     "output_type": "stream",
     "text": [
      "/var/folders/mp/60r0v21d3bn_1j9h07mqxny00000gn/T/ipykernel_63154/1561980503.py:2: FutureWarning: The default value of regex will change from True to False in a future version.\n",
      "  train[\"text\"] = train[\"text\"].str.replace('(@[\\w]*)|(https?:\\/\\/[A-Za-z0-9\\s]*\\.com\\/?)|(#)|([^a-zA-Z0-9\\s])|([R][T])','').str.lower()\n"
     ]
    },
    {
     "data": {
      "text/plain": [
       "0                                                                  our deeds are the reason of this earthquake may allah forgive us all\n",
       "1                                                                                                 forest fire near la ronge sask canada\n",
       "2    all residents asked to shelter in place are being notified by officers no other evacuation or shelter in place orders are expected\n",
       "3                                                                       13000 people receive wildfires evacuation orders in california \n",
       "4                                                just got sent this photo from ruby alaska as smoke from wildfires pours into a school \n",
       "5                               rockyfire update  california hwy 20 closed in both directions due to lake county fire  cafire wildfires\n",
       "6                                          flood disaster heavy rain causes flash flooding of streets in manitou colorado springs areas\n",
       "7                                                                               im on top of the hill and i can see a fire in the woods\n",
       "8                                                        theres an emergency evacuation happening now in the building across the street\n",
       "9                                                                                      im afraid that the tornado is coming to our area\n",
       "Name: text, dtype: object"
      ]
     },
     "execution_count": 168,
     "metadata": {},
     "output_type": "execute_result"
    }
   ],
   "source": [
    "clean_pattern = re.compile(r'(@[\\w]*)|(https:\\/\\/t\\.co\\/.+)|(http:\\/\\/t\\.co\\/.+)|(#)|([^a-zA-Z0-9\\s])|([R][T])')\n",
    "train[\"text\"] = train[\"text\"].str.replace('(@[\\w]*)|(https?:\\/\\/[A-Za-z0-9\\s]*\\.com\\/?)|(#)|([^a-zA-Z0-9\\s])|([R][T])','').str.lower()\n",
    "\n",
    "train['text'].head(10)\n",
    "\n",
    "\n",
    "#httptco9e2f7bivle"
   ]
  },
  {
   "cell_type": "markdown",
   "metadata": {},
   "source": [
    "Stop words removal"
   ]
  },
  {
   "cell_type": "code",
   "execution_count": 169,
   "metadata": {},
   "outputs": [
    {
     "data": {
      "text/plain": [
       "0                                                  deeds reason earthquake may allah forgive us\n",
       "1                                                         forest fire near la ronge sask canada\n",
       "2      residents asked shelter place notified officers evacuation shelter place orders expected\n",
       "3                                   13000 people receive wildfires evacuation orders california\n",
       "4                                       got sent photo ruby alaska smoke wildfires pours school\n",
       "5    rockyfire update california hwy 20 closed directions due lake county fire cafire wildfires\n",
       "6        flood disaster heavy rain causes flash flooding streets manitou colorado springs areas\n",
       "7                                                                    im top hill see fire woods\n",
       "8                                  theres emergency evacuation happening building across street\n",
       "9                                                                 im afraid tornado coming area\n",
       "Name: text, dtype: object"
      ]
     },
     "execution_count": 169,
     "metadata": {},
     "output_type": "execute_result"
    }
   ],
   "source": [
    "\",\".join(stopwords.words('english'))\n",
    "stops_words = set(stopwords.words('english'))\n",
    "train['text'] = train['text'].apply(lambda x: ' '.join([word for word in x.split() if word not in (stops_words)]))\n",
    "train['text'].head(10)"
   ]
  },
  {
   "cell_type": "code",
   "execution_count": 170,
   "metadata": {},
   "outputs": [
    {
     "data": {
      "text/plain": [
       "0                                                  deed reason earthquake may allah forgive u\n",
       "1                                                       forest fire near la ronge sask canada\n",
       "2       resident asked shelter place notified officer evacuation shelter place order expected\n",
       "3                                   13000 people receive wildfire evacuation order california\n",
       "4                                      got sent photo ruby alaska smoke wildfire pours school\n",
       "5    rockyfire update california hwy 20 closed direction due lake county fire cafire wildfire\n",
       "6          flood disaster heavy rain cause flash flooding street manitou colorado spring area\n",
       "7                                                                   im top hill see fire wood\n",
       "8                                 there emergency evacuation happening building across street\n",
       "9                                                               im afraid tornado coming area\n",
       "Name: text, dtype: object"
      ]
     },
     "execution_count": 170,
     "metadata": {},
     "output_type": "execute_result"
    }
   ],
   "source": [
    "from nltk.stem import WordNetLemmatizer, PorterStemmer \n",
    "stemmer = PorterStemmer()\n",
    "wnl = WordNetLemmatizer()\n",
    "\n",
    "train['text'] = train['text'].apply(lambda x: ' '.join([wnl.lemmatize(word) for word in x.split()]))\n",
    "train['text'].head(10)"
   ]
  },
  {
   "cell_type": "code",
   "execution_count": 171,
   "metadata": {},
   "outputs": [
    {
     "name": "stdout",
     "output_type": "stream",
     "text": [
      "7613\n",
      "7613\n"
     ]
    }
   ],
   "source": [
    "textList = list(train['text'])\n",
    "print(len(textList))\n",
    "\n",
    "targetList = list(train['target'])\n",
    "print(len(targetList))\n",
    "\n",
    "tweetDict = {}\n",
    "for key in textList:\n",
    "    for value in targetList:\n",
    "        tweetDict[key] = value\n",
    "        targetList.remove(value)\n",
    "        break\n",
    "\n",
    "uniqueWords = set()\n",
    "\n",
    "for i in textList:\n",
    "    wordList = i.split()\n",
    "    for word in wordList:\n",
    "        if word not in uniqueWords:\n",
    "            uniqueWords.add(word)\n"
   ]
  },
  {
   "cell_type": "code",
   "execution_count": 172,
   "metadata": {},
   "outputs": [],
   "source": [
    "wordDict = {}\n",
    "wordCount = {}\n",
    "\n",
    "for words in uniqueWords:\n",
    "    for key in tweetDict:\n",
    "        if words in key:\n",
    "            if words in wordDict:\n",
    "                wordDict[words] += tweetDict[key]\n",
    "                wordCount[words] += 1\n",
    "            else:\n",
    "                wordDict[words] = tweetDict[key]\n",
    "                wordCount[words] = 1\n"
   ]
  },
  {
   "cell_type": "code",
   "execution_count": 173,
   "metadata": {},
   "outputs": [
    {
     "name": "stdout",
     "output_type": "stream",
     "text": [
      "18734\n",
      "18734\n"
     ]
    }
   ],
   "source": [
    "print(len(wordDict))\n",
    "print(len(wordCount))"
   ]
  },
  {
   "cell_type": "code",
   "execution_count": 192,
   "metadata": {},
   "outputs": [
    {
     "name": "stdout",
     "output_type": "stream",
     "text": [
      "26.337034269243087\n"
     ]
    }
   ],
   "source": [
    "average = 0\n",
    "total = 0\n",
    "\n",
    "for x in wordCount.values():\n",
    "    total += x\n",
    "\n",
    "average = total / len(wordCount)\n",
    "print(average)"
   ]
  },
  {
   "cell_type": "markdown",
   "metadata": {},
   "source": [
    "Need to plan for words will very little scores "
   ]
  },
  {
   "cell_type": "code",
   "execution_count": 195,
   "metadata": {},
   "outputs": [
    {
     "name": "stdout",
     "output_type": "stream",
     "text": [
      "{'mx': 0.6326530612244898, 'pu': 0.3768545994065282, 'inst': 0.41379310344827586, 'wom': 0.3163265306122449, 'site': 0.723404255319149, 'ipa': 0.8974358974358975, 'forest': 0.734375, 'til': 0.42857142857142855, 'close': 0.7380952380952381, 'oper': 0.32558139534883723, 'nj': 0.5344827586206896, 'turn': 0.46551724137931033, 'ave': 0.45627376425855515, 'ara': 0.47058823529411764, 'saw': 0.625, 'failure': 0.6511627906976745, 'life': 0.39849624060150374, 'ch': 0.4265927977839335, 'lash': 0.71875, 'typhoon': 0.9814814814814815, 'injured': 0.8, 'ever': 0.37677053824362605, 'wood': 0.325, '19': 0.6767676767676768, 'aug': 0.5573770491803278, 'wreckage': 0.9743589743589743, 'ala': 0.7401129943502824, 'fact': 0.45454545454545453, 'loo': 0.4760820045558087, 'ebay': 0.06451612903225806, 'rap': 0.3504273504273504, 'turkey': 1.0, 'cn': 0.5595238095238095, 'smoke': 0.22448979591836735, 'wall': 0.8076923076923077, '2n': 0.5897435897435898, 'say': 0.4594594594594595, 'crash': 0.6928104575163399, 'detonation': 0.2903225806451613, 'ad': 0.41354723707664887, 'pen': 0.4444444444444444, 'nia': 0.8670520231213873, 'special': 0.5405405405405406, 'um': 0.4322820037105751, 'bleeding': 0.14285714285714285, 'wee': 0.2892561983471074, 'volcano': 0.6896551724137931, 'traumatised': 0.08571428571428572, 'sue': 0.8068181818181818, 'sun': 0.34146341463414637, 'lag': 0.7413793103448276, 'due': 0.75, 'epl': 0.1724137931034483, 'tac': 0.630057803468208, 'book': 0.13043478260869565, 'liked': 0.1590909090909091, 'fire': 0.7539503386004515, 'sinking': 0.23076923076923078, 'saudi': 0.9473684210526315, 'wing': 0.5405405405405406, 'govern': 0.6739130434782609, 'http': 0.544806517311609, 'mudslide': 0.32432432432432434, 'cont': 0.41496598639455784, 'len': 0.5321100917431193, 'tab': 0.3333333333333333, 'wr': 0.44528301886792454, 'rope': 0.45714285714285713, 'atomic': 0.9482758620689655, 'hr': 0.549407114624506, 'aba': 0.6181818181818182, 'led': 0.6679245283018868, 'curfew': 0.1388888888888889, 'always': 0.20454545454545456, 'mar': 0.529126213592233, 'threat': 0.6666666666666666, 'trapped': 0.35135135135135137, 'woo': 0.3181818181818182, 'rally': 0.34375, '500': 0.5625, 'vir': 0.6764705882352942, 'building': 0.6692913385826772, 'md': 0.5517241379310345, 'comin': 0.3275862068965517, 'home': 0.6818181818181818, '7p': 0.3333333333333333, 'ratio': 0.39603960396039606, 'ky': 0.44, 'one': 0.33816425120772947, 'tho': 0.3333333333333333, 'ev': 0.48148148148148145, 'want': 0.1810344827586207, 'gen': 0.4713114754098361, 'investigator': 1.0, 'pb': 0.40350877192982454, 'kp': 0.6896551724137931, 'hank': 0.25675675675675674, 'cal': 0.6502242152466368, 'arm': 0.40086206896551724, '300': 0.4642857142857143, 'ma': 0.492992992992993, 'ate': 0.5401387512388504, 'fan': 0.1780821917808219, 'long': 0.38613861386138615, 'damage': 0.6285714285714286, 'getting': 0.3090909090909091, 'r': 0.4413105413105413, 'men': 0.4943820224719101, 'ori': 0.5826771653543307, 'ambulance': 0.5714285714285714, 'malaysia': 0.9821428571428571, 'expect': 0.6470588235294118, 'con': 0.5024630541871922, 'exploded': 0.3235294117647059, 'drive': 0.574468085106383, 'bd': 0.5471698113207547, 'nate': 0.5822784810126582, 'fail': 0.631578947368421, 'eau': 0.2926829268292683, 'main': 0.5789473684210527, 'share': 0.21428571428571427, 'ur': 0.46884833228445566, 'ri': 0.49133858267716535, 'storm': 0.6895522388059702, 'nigh': 0.3425925925925926, 'army': 0.5797101449275363, 'cyclone': 0.6451612903225806, 'try': 0.3867924528301887, 'pam': 0.7407407407407407, 'ac': 0.49125081011017496, 'sha': 0.35502958579881655, 'radio': 0.3448275862068966, 'amo': 0.38235294117647056, 'vid': 0.39712918660287083, 'horrible': 0.4482758620689655, 'tu': 0.49158249158249157, 'hug': 0.40625, 'hey': 0.3235294117647059, 'slide': 0.42168674698795183, 'odd': 0.3125, 'pak': 0.8571428571428571, 'weapon': 0.4827586206896552, 'obliteration': 0.13793103448275862, 'hw': 0.6333333333333333, 'vi': 0.49787955894826125, 'ass': 0.515625, 'can': 0.4351851851851852, 'so': 0.37044534412955465, 'god': 0.2571428571428571, '61': 0.6206896551724138, 'ren': 0.46153846153846156, 'ce': 0.45692883895131087, 'bk': 0.5217391304347826, 'confirmed': 0.7540983606557377, 'human': 0.6470588235294118, 'nw': 0.5543478260869565, 'z': 0.490096208262592, 'blue': 0.22857142857142856, 'eye': 0.3625, 'ai': 0.5668316831683168, 'hoe': 0.3870967741935484, 'tc': 0.5354427274957076, 'round': 0.4024390243902439, 'suspect': 0.9555555555555556, 'security': 0.6451612903225806, 'ray': 0.3191489361702128, 'gust': 0.7021276595744681, 'nan': 0.2765957446808511, 'lot': 0.38636363636363635, 'resident': 0.7777777777777778, 'prob': 0.33962264150943394, 'sky': 0.3076923076923077, 'te': 0.4721388054721388, 'post': 0.453125, 'audi': 0.76, 'hand': 0.296875, 'mt': 0.46153846153846156, 'cue': 0.6293103448275862, 'state': 0.6774193548387096, 'sad': 0.4, 'cree': 0.15789473684210525, 'aim': 0.7317073170731707, 'heard': 0.3142857142857143, 'pace': 0.4146341463414634, 'area': 0.7931034482758621, 'hi': 0.4557291666666667, 'tsunami': 0.43333333333333335, 'stand': 0.2727272727272727, 'aa': 0.4835164835164835, 'obliterate': 0.13114754098360656, 'tra': 0.5351351351351351, 'se': 0.45519203413940257, 'summer': 0.3103448275862069, 'tren': 0.8372093023255814, 'ban': 0.3835616438356164, 'sir': 0.2535211267605634, 'he': 0.408187134502924, 'ought': 0.5405405405405406, 'exc': 0.5094339622641509, 'wonder': 0.20689655172413793, 'ir': 0.6030323914541695, 'north': 0.9292929292929293, 'bad': 0.2542372881355932, 'ushed': 0.1875, 'dan': 0.336734693877551, 'kind': 0.17647058823529413, 'sel': 0.17721518987341772, 'violent': 0.75, 'chemical': 0.4864864864864865, 'week': 0.2786885245901639, 'evac': 0.7723577235772358, 'murder': 0.7325581395348837, 'sex': 0.3125, 'ral': 0.5693069306930693, 'wind': 0.48322147651006714, '16': 0.6041666666666666, 'cap': 0.5684210526315789, 'ugh': 0.4675324675324675, 'un': 0.4913916786226686, 'hed': 0.3708609271523179, 'rep': 0.5978260869565217, 'lion': 0.5909090909090909, 'react': 0.48484848484848486, 'water': 0.6708860759493671, 'fn': 0.5862068965517241, 'esse': 0.2553191489361702, 'attacked': 0.6341463414634146, 'arent': 0.30434782608695654, 'pakistan': 0.9024390243902439, 'bot': 0.34285714285714286, 'hijack': 0.5268817204301075, 'park': 0.46153846153846156, 'los': 0.5975609756097561, 'month': 0.4642857142857143, 'alt': 0.525, 'south': 0.7843137254901961, 'a5': 0.625, 'bod': 0.2254335260115607, 'ime': 0.4431818181818182, 'rl': 0.47297297297297297, 'school': 0.4626865671641791, 'night': 0.34579439252336447, 'place': 0.5375, 'tp': 0.5444388014220416, 'blast': 0.48484848484848486, 'tube': 0.3333333333333333, 'rise': 0.3695652173913043, 'ama': 0.6363636363636364, 'soo': 0.25, 'ey': 0.417910447761194, 'gv': 0.6037735849056604, 'tub': 0.36363636363636365, 'p': 0.46608638528494006, 'time': 0.39906103286384975, 'california': 0.9421487603305785, 'emo': 0.332, 'sj': 0.42857142857142855, 'heli': 0.8529411764705882, 'came': 0.5094339622641509, 'siren': 0.25925925925925924, 'drowning': 0.29411764705882354, 'feel': 0.16279069767441862, 'nf': 0.5502008032128514, 'pres': 0.4020618556701031, 'dere': 0.6458333333333334, 'dw': 0.5494505494505495, 'dt': 0.6627906976744186, 'mo': 0.42368177613321, 'cte': 0.7121212121212122, 'acre': 0.813953488372093, 'e': 0.4313243132431324, 'somethin': 0.30303030303030304, 'pond': 0.5636363636363636, 'already': 0.2413793103448276, 'dl': 0.4044943820224719, 'electro': 0.2191780821917808, 'gio': 0.872093023255814, 'fatality': 0.5, 'mark': 0.47435897435897434, 'ant': 0.3739424703891709, '12': 0.5494505494505495, 'ol': 0.455086258179655, 'ect': 0.5295404814004376, '91': 0.5263157894736842, 'nuclear': 0.7058823529411765, 'plan': 0.6075268817204301, 'ny': 0.4051724137931034, 'harm': 0.0851063829787234, 'computer': 0.2222222222222222, 'ima': 0.7032520325203252, 'cali': 0.9307692307692308, 'fit': 0.1875, '5c': 0.43333333333333335, 'christ': 0.6666666666666666, 'effect': 0.42105263157894735, 'ov': 0.43377001455604075, 'demolition': 0.2903225806451613, 'gf': 0.5, 'hop': 0.35106382978723405, 'bin': 0.8145161290322581, 'fight': 0.6375, 'step': 0.25, 'line': 0.5609756097560976, 'trauma': 0.27941176470588236, 'someone': 0.23809523809523808, 'elect': 0.2553191489361702, 'troye': 0.32558139534883723, 'engulfed': 0.5483870967741935, 'tt': 0.5183908045977011, 'transport': 0.6071428571428571, 'officer': 0.8333333333333334, 'shit': 0.27419354838709675, 'drowned': 0.41935483870967744, 'stil': 0.424, 'allow': 0.8421052631578947, 'tree': 0.711864406779661, 'dust': 0.5961538461538461, 'tow': 0.6410256410256411, 'edit': 0.5142857142857142, 'top': 0.34558823529411764, 'hear': 0.344, 'red': 0.4878048780487805, 'a3': 0.4666666666666667, '50': 0.6228070175438597, 'done': 0.5555555555555556, 'last': 0.39344262295081966, 'side': 0.48148148148148145, 'catastrophe': 0.2631578947368421, 'fd': 0.5396825396825397, 'dr': 0.45109780439121755, 'today': 0.5436893203883495, 'legionna': 1.0, 'heat': 0.68, 'playing': 0.13953488372093023, 'business': 0.3, 'nite': 0.3191489361702128, 'ell': 0.39730639730639733, 'actor': 0.4878048780487805, 'truck': 0.639344262295082, 'sr': 0.7327586206896551, 'believe': 0.3793103448275862, 'firm': 0.759493670886076, 'tcot': 0.5588235294117647, 'pain': 0.23333333333333334, 'ary': 0.5487179487179488, 'burning': 0.5137614678899083, 'release': 0.55, 'coming': 0.3333333333333333, 'dont': 0.26865671641791045, 'key': 0.75, 'x': 0.49602780536246277, 'affect': 0.9024390243902439, 'ryt': 0.2857142857142857, '06': 0.6444444444444445, 'way': 0.375, '99': 0.5, 'murderer': 0.6060606060606061, 'mba': 0.4375, 'age': 0.5625, 'late': 0.521978021978022, 'landslide': 0.55, 'thats': 0.3770491803278688, 'row': 0.3170731707317073, 'listen': 0.10344827586206896, 'grant': 1.0, 'fran': 0.5666666666666667, 'diff': 0.2962962962962963, 'early': 0.6511627906976745, 'deluge': 0.2, 'responder': 0.45161290322580644, 'milita': 0.5, 'final': 0.17647058823529413, 'live': 0.46218487394957986, 'ee': 0.34962089300758215, 'ig': 0.4763670064874884, 'boy': 0.3673469387755102, 'mina': 0.41935483870967744, '75': 0.5862068965517241, 'vice': 0.5222222222222223, 'enter': 0.41304347826086957, '6': 0.5752979414951246, 'drown': 0.2828282828282828, 'cd': 0.5942028985507246, 'old': 0.5737704918032787, 'die': 0.5098039215686274, 'white': 0.35714285714285715, 'died': 0.7666666666666667, '9': 0.5690200210748156, 'sf': 0.34177215189873417, 'mean': 0.23076923076923078, 'tor': 0.6158273381294964, 'dee': 0.3488372093023256, 'rainstorm': 0.6071428571428571, 'cake': 0.0625, 'pp': 0.4386694386694387, 'game': 0.171875, 'rio': 0.5070422535211268, 'demo': 0.26174496644295303, 'ho': 0.4520123839009288, 'police': 0.7480314960629921, 'sure': 0.35714285714285715, 'ally': 0.35294117647058826, 'nz': 0.5531914893617021, 'rar': 0.40625, 'terror': 0.7419354838709677, '35': 0.5517241379310345, 'plea': 0.3194444444444444, 'inj': 0.543046357615894, '18': 0.5094339622641509, 'ani': 0.3684210526315789, 'boat': 0.75, 'mh370': 1.0, '3d': 0.5853658536585366, 'icy': 0.4117647058823529, 'cream': 0.13445378151260504, 'cab': 0.2962962962962963, 'earth': 0.6923076923076923, 'utc': 0.6153846153846154, 'name': 0.3055555555555556, 'armageddon': 0.1111111111111111, 'tic': 0.40512820512820513, 'tell': 0.43137254901960786, 'update': 0.6363636363636364, 'tx': 0.43478260869565216, 'gg': 0.4222222222222222, '0': 0.5858444288717589, 'centre': 0.2857142857142857, 'least': 0.7027027027027027, 'oc': 0.4524822695035461, 'union': 0.8913043478260869, 'rain': 0.7256637168141593, 'ya': 0.5743589743589743, 'killed': 0.9583333333333334, 'oup': 0.5294117647058824, 'im': 0.4600760456273764, 'ar': 0.4722516790385295, 'per': 0.3624161073825503, '20': 0.5328185328185329, 'bar': 0.32098765432098764, '11': 0.6195652173913043, 'mat': 0.4956521739130435, 'foot': 0.3142857142857143, 'evacuate': 0.7466666666666667, 'sign': 0.4864864864864865, 'wounded': 0.6904761904761905, 'earn': 0.47368421052631576, 'ben': 0.4166666666666667, 'search': 0.7755102040816326, 'bloody': 0.13953488372093023, 'n': 0.4363792856118204, 'windstorm': 0.4, 'sb': 0.46464646464646464, 'mad': 0.4157303370786517, 'sa': 0.5557620817843866, 'quest': 0.3870967741935484, 'bioter': 0.6379310344827587, 'l': 0.43839285714285714, 'pd': 0.5851851851851851, 'brown': 0.2413793103448276, 'stat': 0.65, 'thunderstorm': 0.8392857142857143, 'cant': 0.19658119658119658, 'earl': 0.5964912280701754, 'ante': 0.35294117647058826, 'gas': 0.6938775510204082, 'lower': 0.39285714285714285, '4k': 0.5714285714285714, 'jj': 0.5454545454545454, 'ski': 0.38095238095238093, 'obliterated': 0.12903225806451613, 'eep': 0.3333333333333333, 'pit': 0.48214285714285715, 'head': 0.34375, 'blood': 0.19101123595505617, 'mk': 0.45901639344262296, 'though': 0.2727272727272727, 'ice': 0.48812664907651715, 'build': 0.6382978723404256, 'missing': 0.8604651162790697, 'son': 0.3902439024390244, 'follow': 0.4339622641509434, 'flattened': 0.14705882352941177, 'lie': 0.5035971223021583, 'matt': 0.2962962962962963, 'rioting': 0.6666666666666666, 'wake': 0.5, 'hole': 0.5294117647058824, 'na': 0.46494464944649444, 'shoulder': 0.09375, 'min': 0.41586538461538464, 'hurricane': 0.675, 'who': 0.3492063492063492, 'move': 0.38, 'fin': 0.2585034013605442, 'da': 0.4342379958246347, 'lit': 0.38372093023255816, 'mb': 0.5891891891891892, 'wild': 0.8507462686567164, 'panicking': 0.06060606060606061, 'de': 0.4776444929116685, 'survive': 0.32051282051282054, 'van': 0.5416666666666666, 'ct': 0.4932920536635707, 'day': 0.4322033898305085, 'rate': 0.319672131147541, 'ga': 0.4872665534804754, 'public': 0.28205128205128205, '17': 0.49122807017543857, 'deal': 0.425531914893617, 'natural': 0.5833333333333334, 'rec': 0.4983277591973244, 'ace': 0.4297520661157025, 'bang': 0.2558139534883721, '2a': 0.48148148148148145, 'year': 0.5935483870967742, 'could': 0.4482758620689655, 'tip': 0.32142857142857145, 'market': 0.26666666666666666, 'gary': 0.84375, 'mc': 0.38461538461538464, 'haha': 0.15151515151515152, 'fu': 0.361328125, 'vol': 0.5833333333333334, 'thu': 0.6176470588235294, 'also': 0.27906976744186046, 'got': 0.2714285714285714, 'movie': 0.38461538461538464, 'hill': 0.4878048780487805, 'ww': 0.5441176470588235, 'battle': 0.25, 'work': 0.30656934306569344, 'house': 0.5909090909090909, 'sat': 0.36363636363636365, 'wi': 0.4573643410852713, 'earthquake': 0.8888888888888888, 'thunder': 0.673469387755102, 'eat': 0.4843137254901961, 'ruin': 0.09090909090909091, 'mn': 0.42857142857142855, 'law': 0.41935483870967744, 'er': 0.47146914536534984, 'pra': 0.48214285714285715, 'fir': 0.6964856230031949, 'king': 0.3424036281179138, 'content': 0.15789473684210525, 'medium': 0.5555555555555556, 'cl': 0.546191247974068, 'scream': 0.14285714285714285, 'annihilated': 0.26666666666666666, 'rev': 0.40229885057471265, 'afte': 0.35294117647058826, 'fr': 0.38055555555555554, 'found': 0.7377049180327869, 'lead': 0.43902439024390244, 'ago': 0.5081967213114754, 'high': 0.5217391304347826, 'offensive': 0.13793103448275862, 'db': 0.27472527472527475, 'hea': 0.41975308641975306, 'tak': 0.36496350364963503, 'must': 0.4411764705882353, 'temp': 0.52, 'panic': 0.10526315789473684, 'city': 0.6578947368421053, 'ting': 0.475, 'ye': 0.435361216730038, 'epa': 0.5487804878048781, 'jap': 0.9102564102564102, 'witness': 0.4444444444444444, 'tch': 0.3707865168539326, 'vast': 0.7317073170731707, 'lock': 0.5094339622641509, 'pl': 0.4551223934723481, 'inc': 0.5490196078431373, 'nation': 0.40625, 'prom': 0.37037037037037035, 'girl': 0.1935483870967742, '5': 0.5412926391382405, 'watch': 0.49606299212598426, 'sand': 0.6883116883116883, 'bet': 0.13333333333333333, 'rage': 0.6987951807228916, 'gonna': 0.24390243902439024, 'ler': 0.575, 'wx': 0.7261904761904762, 'talk': 0.3333333333333333, 'nic': 0.23026315789473684, 'tin': 0.47549019607843135, 'brit': 0.4482758620689655, 'rum': 0.22580645161290322, 'wn': 0.38106796116504854, 'ik': 0.311284046692607, 'sd': 0.5833333333333334, 'km': 0.573170731707317, 'yo': 0.3469945355191257, 'pic': 0.5, 'person': 0.4146341463414634, 'anger': 0.2857142857142857, 'lay': 0.41904761904761906, 'ali': 0.6312997347480106, 'fuckin': 0.11904761904761904, 'atc': 0.44148936170212766, 'another': 0.49230769230769234, 'add': 0.2413793103448276, 'japan': 0.9264705882352942, 'call': 0.5684210526315789, 'thanks': 0.27586206896551724, 'gene': 0.3333333333333333, 'est': 0.5102781136638452, 'aid': 0.4810126582278481, 'lightning': 0.5681818181818182, 'ra': 0.5068807339449541, 'wm': 0.6379310344827587, 'j': 0.5037745344740815, 'art': 0.4052631578947368, 'kc': 0.5342465753424658, 'laced': 0.6388888888888888, 'dem': 0.32222222222222224, 'breaking': 0.6, 'bomber': 0.9814814814814815, 'tps': 0.325, 'rated': 0.2978723404255319, 'roy': 0.3783783783783784, 'little': 0.34, 'camp': 0.5128205128205128, 'bio': 0.5942028985507246, 'rescue': 0.6371681415929203, 'usa': 0.5423728813559322, 'sac': 0.7446808510638298, 'hist': 0.5641025641025641, 'next': 0.3269230769230769, '02': 0.4473684210526316, 'fb': 0.5098039215686274, 'famine': 0.6578947368421053, 'half': 0.5428571428571428, 'tea': 0.32407407407407407, 'nm': 0.5533333333333333, 'left': 0.3142857142857143, 'demolished': 0.27586206896551724, 'quake': 0.875, 'tn': 0.5297619047619048, 'blazing': 0.06451612903225806, 'trouble': 0.14705882352941177, 'nl': 0.4066666666666667, 'st': 0.4623015873015873, 'cause': 0.6382978723404256, 'pow': 0.5961538461538461, 'check': 0.2, 'erie': 0.2857142857142857, 'face': 0.2638888888888889, 'go': 0.3341260404280618, 'nother': 0.48484848484848486, 'thr': 0.5611510791366906, 'nside': 0.5365853658536586, 'tb': 0.5185185185185185, 'fam': 0.6792452830188679, 'af': 0.5932721712538226, 'spot': 0.14285714285714285, 'obama': 0.8095238095238095, 'collide': 0.3611111111111111, 'rn': 0.6062893081761006, 'xo': 0.5454545454545454, 'hold': 0.5, 'dal': 0.5882352941176471, 'ari': 0.5, 'mate': 0.7096774193548387, 'confirm': 0.7792207792207793, 'gem': 0.4117647058823529, '10': 0.5093167701863354, 'read': 0.291044776119403, 'ight': 0.4149797570850202, 'lou': 0.22857142857142856, 'rom': 0.3275862068965517, 'let': 0.24607329842931938, 'traffic': 0.7142857142857143, 'cr': 0.44136460554371004, 'cow': 0.5534591194968553, 'fed': 0.5774647887323944, 'inundated': 0.17142857142857143, 'sound': 0.23728813559322035, '37': 0.865979381443299, 'jr': 0.3181818181818182, 'hell': 0.31746031746031744, 'kid': 0.34545454545454546, 'as': 0.5125, 'twi': 0.25471698113207547, 'hazardous': 0.59375, 'hip': 0.47863247863247865, 'ru': 0.42649006622516555, 'displace': 0.75, 'past': 0.5238095238095238, 'ross': 0.31683168316831684, 'pet': 0.2619047619047619, 'russia': 0.6842105263157895, 'explosion': 0.6086956521739131, 'child': 0.5254237288135594, 'bush': 0.6129032258064516, 'rand': 0.3953488372093023, 'dfir': 0.963855421686747, 'refugee': 0.725, 'bag': 0.09166666666666666, 'fte': 0.40384615384615385, 'mh': 0.725925925925926, 'ut': 0.46772366930917325, 'super': 0.20512820512820512, '60': 0.6617647058823529, 'dis': 0.6521739130434783, 'support': 0.4482758620689655, 'th': 0.46030900372935535, 'ux': 0.47540983606557374, 'airplane': 0.8648648648648649, '15': 0.6205128205128205, 'front': 0.35714285714285715, 'stan': 0.512987012987013, 'casualty': 0.6666666666666666, 'northern': 1.0, 'ish': 0.37799043062200954, '24': 0.5405405405405406, 'hour': 0.3541666666666667, 'photo': 0.44047619047619047, 'control': 0.5, 'hd': 0.4782608695652174, 'stop': 0.38028169014084506, 'field': 0.5185185185185185, 'sunk': 0.21052631578947367, 'lu': 0.41273584905660377, 'severe': 1.0, 'nh': 0.5362318840579711, 'busines': 0.3170731707317073, 'eo': 0.4425612052730697, 'c': 0.4531749657377798, 'china': 0.5, 'run': 0.46218487394957986, 'mil': 0.6, 'dq': 0.37777777777777777, 'al': 0.48761609907120745, 'pick': 0.49122807017543857, 'spill': 0.9767441860465116, 'gr': 0.48214285714285715, 'hate': 0.2727272727272727, 'mill': 0.6764705882352942, 'there': 0.4074074074074074, 'press': 0.41509433962264153, 'see': 0.2878787878787879, 'take': 0.36036036036036034, 'lad': 0.4025974025974026, 'sea': 0.6325301204819277, 'blew': 0.058823529411764705, 'rescuer': 0.8888888888888888, '370': 1.0, 'whirlwind': 0.3783783783783784, 'nno': 0.40384615384615385, 'sm': 0.4437869822485207, 'tod': 0.5210084033613446, 'link': 0.44680851063829785, 'rly': 0.6527777777777778, 'ward': 0.5263157894736842, 'ok': 0.4234930448222566, 'ed': 0.47772052137011217, 'clear': 0.6974789915966386, 'august': 0.625, 'hm': 0.5164835164835165, 'maj': 0.7272727272727273, 'oh': 0.44485294117647056, 'fx': 0.46153846153846156, 'non': 0.5263157894736842, 'cry': 0.2857142857142857, 'beautiful': 0.22580645161290322, 'ands': 0.6043956043956044, '84': 0.2222222222222222, 'doesnt': 0.37037037037037035, 'm': 0.4510365750884881, 'reunion': 0.96875, 'word': 0.18181818181818182, 'rip': 0.42857142857142855, 'nda': 0.3643410852713178, 'info': 0.4878048780487805, 'tru': 0.5038759689922481, 'order': 0.6041666666666666, 'ak': 0.49325153374233127, 'world': 0.42857142857142855, 'power': 0.6122448979591837, 'lee': 0.2413793103448276, 'wont': 0.25925925925925924, 'comp': 0.3445378151260504, 'part': 0.4077669902912621, 'rod': 0.4642857142857143, 'israeli': 1.0, 'nick': 0.075, 'sandstorm': 0.7567567567567568, 'hah': 0.16216216216216217, 'stl': 0.5272727272727272, 'legio': 0.9318181818181818, 'wreck': 0.44881889763779526, 'ive': 0.46016260162601624, 'opp': 0.48148148148148145, 'vern': 0.7, 'used': 0.6052631578947368, 'bp': 0.5128205128205128, 'ham': 0.5633802816901409, 'mode': 0.16129032258064516, 'went': 0.3888888888888889, 'onlin': 0.3225806451612903, 'snow': 0.5, 'two': 0.7075471698113207, 'america': 0.6271186440677966, 'flame': 0.5, 'strike': 0.6, 'ian': 0.6793103448275862, 'nicki': 0.05405405405405406, 'break': 0.6267605633802817, 'reddit': 0.14814814814814814, 'near': 0.7156862745098039, 'rob': 0.35714285714285715, 'mon': 0.38990825688073394, '2b': 0.4444444444444444, 'story': 0.5131578947368421, 'inside': 0.5357142857142857, 'prepare': 0.5357142857142857, 'ij': 0.5337837837837838, 'sec': 0.47540983606557374, 'fucking': 0.1282051282051282, 'nsa': 0.5185185185185185, 'yor': 0.7241379310344828, 'wd': 0.453125, 'out': 0.5538461538461539, 'rd': 0.46906474820143884, 'rat': 0.3492647058823529, 'gun': 0.59375, 'co': 0.516549220585095, 'rail': 0.6991869918699187, 'aint': 0.24489795918367346, 'rb': 0.474025974025974, 'electrocute': 0.2222222222222222, 'electr': 0.25301204819277107, 'ring': 0.36904761904761907, 'ah': 0.4482758620689655, 'cat': 0.3782051282051282, 'wound': 0.5256410256410257, 'scar': 0.3888888888888889, 'erally': 0.25925925925925924, '1': 0.5406896551724137, 'longer': 0.43333333333333335, 'vent': 0.4107142857142857, 'tenn': 0.4074074074074074, 'swallow': 0.9696969696969697, 'cc': 0.5454545454545454, 'much': 0.19672131147540983, 'slam': 0.6388888888888888, 'ablaze': 0.4642857142857143, 'room': 0.3055555555555556, 'shooting': 0.7857142857142857, 'test': 0.6086956521739131, 'even': 0.4032258064516129, 'rsa': 0.7708333333333334, 'mini': 0.47368421052631576, 'b': 0.43927813163481955, 'pkk': 0.9285714285714286, 'cod': 0.5, 'need': 0.29, 'yet': 0.22580645161290322, 'fm': 0.4393939393939394, 'terrorism': 0.7230769230769231, 'gal': 0.5961538461538461, 'train': 0.8173913043478261, 'oli': 0.46511627906976744, 'trap': 0.2916666666666667, 'many': 0.3614457831325301, 'soc': 0.40816326530612246, 'ridge': 0.8571428571428571, 'bal': 0.3548387096774194, '90': 0.7333333333333333, 'ki': 0.4654226125137212, 'town': 0.6610169491525424, 'fo': 0.5725806451612904, 'landsli': 0.5609756097560976, 'sinkhole': 0.7222222222222222, 'fuck': 0.1511627906976744, 'apt': 0.6585365853658537, 'eto': 0.5092592592592593, 'aust': 0.4117647058823529, 'yr': 0.5970149253731343, 'hai': 0.5094339622641509, 'demon': 0.26666666666666666, 'stree': 0.7647058823529411, 'displaced': 0.71875, 'injury': 0.3333333333333333, 'tbr': 0.875, 'open': 0.3829787234042553, 'bridge': 0.8666666666666667, 'possible': 0.6666666666666666, 'stay': 0.29411764705882354, 'cri': 0.6296296296296297, 'dj': 0.3793103448275862, 'come': 0.27419354838709675, '31': 0.59375, 'allin': 0.48148148148148145, 'well': 0.3387096774193548, 'bama': 0.8245614035087719, 'debris': 1.0, 'sn': 0.424, 'american': 0.7096774193548387, 'thou': 0.30935251798561153, 'ember': 0.4788732394366197, 'list': 0.3333333333333333, 'tornado': 0.7027027027027027, 'nd': 0.4925864909390445, 'fa': 0.4324970131421744, 'rick': 0.3333333333333333, '45': 0.5641025641025641, 'era': 0.4514285714285714, 'chris': 0.6511627906976745, 'away': 0.30952380952380953, 'legionnaire': 1.0, 'ne': 0.44656643640796423, 'group': 0.6756756756756757, 'httpt': 0.5679462034183245, 'sto': 0.5532258064516129, 'wc': 0.46296296296296297, '2015': 0.5904761904761905, 'fast': 0.36666666666666664, 'nne': 0.4132231404958678, 'military': 0.34615384615384615, 'gel': 0.6511627906976745, 'rea': 0.391304347826087, 'tem': 0.5760869565217391, 'new': 0.5085714285714286, 'date': 0.4392523364485981, 'ay': 0.40583136327817176, 'ex': 0.46322378716744916, 'esn': 0.3548387096774194, 'right': 0.3473684210526316, 'watchin': 0.37037037037037035, 'tr': 0.47964071856287427, 'dead': 0.6363636363636364, '09': 0.34375, 'oo': 0.43385490753911804, 'rt': 0.5098039215686274, 'desolation': 0.17142857142857143, 'cliff': 0.2647058823529412, 'le': 0.44310897435897434, 'collapse': 0.6017699115044248, 'pay': 0.24242424242424243, 'anti': 0.3076923076923077, 'av': 0.42857142857142855, 'wa': 0.490295358649789, '40': 0.711340206185567, 'hijacker': 0.5588235294117647, 'ten': 0.3662420382165605, 'gn': 0.4587628865979381, 'rant': 0.5271317829457365, '3': 0.5389888603256212, 'hope': 0.3793103448275862, 'mosque': 1.0, '4': 0.5077972709551657, 'val': 0.3125, 'derailment': 1.0, 'hundred': 0.8571428571428571, 'country': 0.6551724137931034, 'pop': 0.28125, 'trying': 0.2222222222222222, 'tom': 0.572463768115942, 'demolish': 0.2222222222222222, 'yes': 0.2619047619047619, 'eq': 0.5168539325842697, 'uk': 0.631578947368421, 'cop': 0.5974025974025974, 'urg': 0.6857142857142857, 'islam': 0.7, 'fri': 0.32673267326732675, 'derailed': 0.7428571428571429, '07': 0.5833333333333334, 'road': 0.48, 'reg': 0.42105263157894735, 'tweet': 0.22857142857142856, 'latest': 0.8064516129032258, 'charge': 0.7058823529411765, 'jam': 0.5666666666666667, 'coun': 0.6774193548387096, 'dm': 0.35365853658536583, 'hail': 0.6875, 'gc': 0.42857142857142855, 'hero': 0.43333333333333335, 'east': 0.7469879518072289, 'hit': 0.39444444444444443, 'umm': 0.33766233766233766, 'collided': 0.575, 'dk': 0.47761194029850745, '100': 0.46808510638297873, 'iran': 0.673469387755102, 'office': 0.7777777777777778, 'blight': 0.07407407407407407, '25': 0.6041666666666666, '53': 0.2962962962962963, 'mm': 0.3923611111111111, 'tf': 0.47572815533980584, 'org': 0.4935064935064935, 'stock': 0.25, 'help': 0.37209302325581395, 'nut': 0.5849056603773585, 'ind': 0.4847715736040609, 'wave': 0.5, 'v': 0.46549974632166413, 'tag': 0.4380165289256198, '78': 0.3548387096774194, 'keep': 0.3018867924528302, 'twister': 0.15384615384615385, 'par': 0.4555984555984556, 'load': 0.1891891891891892, 'warn': 0.8695652173913043, 'ana': 0.4827586206896552, 'view': 0.33962264150943394, 'cle': 0.5934579439252337, 'har': 0.3515625, 'service': 0.5185185185185185, 'destroyed': 0.3, 'find': 0.3235294117647059, 'prebreak': 0.43333333333333335, '14': 0.42857142857142855, '58': 0.5806451612903226, 'video': 0.39644970414201186, 'bed': 0.4117647058823529, 'give': 0.37142857142857144, 'mi': 0.5172143974960877, 'self': 0.10416666666666667, 'happen': 0.5178571428571429, 'quarantine': 0.28169014084507044, 'exp': 0.47126436781609193, 'tomorrow': 0.35294117647058826, 'ag': 0.46736596736596736, 'amp': 0.39598997493734334, 'job': 0.20754716981132076, 'three': 0.7586206896551724, 'woman': 0.32608695652173914, 'gh': 0.4438138479001135, 'second': 0.4864864864864865, 'gi': 0.5109090909090909, 'aw': 0.5019157088122606, 'mv': 0.45652173913043476, 'em': 0.4206268958543984, 'minute': 0.7045454545454546, 'intern': 0.3541666666666667, 'mac': 0.36666666666666664, 'level': 0.3939393939393939, 'az': 0.48757763975155277, 'tonight': 0.42857142857142855, 'online': 0.3, '36': 0.5555555555555556, 'isi': 0.6832298136645962, 'pot': 0.39215686274509803, 'que': 0.5471698113207547, 'den': 0.6273062730627307, 'west': 0.7413793103448276, '23': 0.46875, 'actually': 0.35714285714285715, 'really': 0.21739130434782608, 'drought': 0.825, 'walk': 0.34210526315789475, 'med': 0.5714285714285714, 'mom': 0.2708333333333333, 'ty': 0.5332428765264586, 'death': 0.5689655172413793, 'lame': 0.52, 'till': 0.42657342657342656, 'big': 0.4606741573033708, 'u': 0.4537303332769413, 'set': 0.47619047619047616, 'bro': 0.32450331125827814, 'fel': 0.4722222222222222, 'know': 0.2595419847328244, 'fav': 0.12195121951219512, 'zar': 0.36633663366336633, 'xl': 0.5714285714285714, 'able': 0.25, 'play': 0.13385826771653545, 'phone': 0.25, 'nc': 0.460196292257361, 'ava': 0.19387755102040816, 'food': 0.5471698113207547, 'safe': 0.4864864864864865, 'tent': 0.24731182795698925, 'ca': 0.514104778353483, 'deluged': 0.25925925925925924, '29': 0.6744186046511628, 'mass': 0.680672268907563, 'legion': 0.9318181818181818, 'sport': 0.4230769230769231, 'bomb': 0.7952755905511811, 'save': 0.4716981132075472, 'arson': 0.5714285714285714, 'jury': 0.34177215189873417, '80': 0.6582278481012658, 'something': 0.3125, 'rite': 0.13636363636363635, 'jack': 0.4957983193277311, 'oth': 0.37438423645320196, 'stage': 0.5421686746987951, 'ie': 0.4204946996466431, 'troy': 0.38, 'learn': 0.5, 'la': 0.4895734597156398, 'liv': 0.4740740740740741, 'oun': 0.5625, 'care': 0.22988505747126436, 'bay': 0.3728813559322034, 'san': 0.6363636363636364, 'sg': 0.5764705882352941, 'music': 0.05128205128205128, 'car': 0.4659498207885305, 'lite': 0.23076923076923078, 'center': 0.6296296296296297, 'k': 0.4373725934314836, 'mf': 0.4666666666666667, 'razed': 0.9090909090909091, 'casual': 0.6285714285714286, 'hil': 0.4292929292929293, 'hang': 0.4050632911392405, 'wb': 0.4032258064516129, 'ash': 0.6312292358803987, 'thank': 0.2676056338028169, 'sen': 0.4, '1m': 0.5333333333333333, 'com': 0.3732142857142857, 'thought': 0.2564102564102564, 'wildfire': 0.975609756097561, 'whats': 0.23333333333333334, 'star': 0.23684210526315788, 'team': 0.34146341463414637, 'en': 0.4462809917355372, 'rv': 0.43843843843843844, 'pub': 0.2926829268292683, 'fedex': 0.6, 'foo': 0.4536082474226804, 'india': 0.8, 'end': 0.36917562724014336, 'project': 0.8787878787878788, 'allowed': 0.8709677419354839, 'che': 0.3212996389891697, 'nort': 0.9207920792079208, 'etc': 0.32558139534883723, 'put': 0.27472527472527475, 'tan': 0.5201793721973094, 'event': 0.5428571428571428, 'hazard': 0.4027777777777778, 'ctr': 0.28888888888888886, 'screaming': 0.15, 'pm': 0.6941176470588235, 'destruction': 0.275, 'yea': 0.5425531914893617, 'direct': 0.32142857142857145, '05': 0.7368421052631579, 'fat': 0.5705128205128205, 'ci': 0.5807692307692308, 'real': 0.2608695652173913, 'uh': 0.4, 'free': 0.29850746268656714, 'su': 0.5205882352941177, 'detonate': 0.6491228070175439, 'plane': 0.825, 'pre': 0.4271523178807947, 'upheaval': 0.1724137931034483, 'soon': 0.25, 'official': 0.6607142857142857, 'lady': 0.18181818181818182, 'fi': 0.5555555555555556, 'people': 0.533678756476684, '7': 0.5699899295065458, 'conf': 0.7128712871287128, 'mind': 0.4117647058823529, 'esp': 0.49137931034482757, 'emp': 0.4533333333333333, 'dog': 0.3333333333333333, 'burn': 0.46551724137931033, 'ja': 0.5646067415730337, 'hard': 0.3541666666666667, 'xp': 0.4807692307692308, 'emergency': 0.49673202614379086, 'gulf': 0.5588235294117647, 'body': 0.2155688622754491, 'better': 0.08571428571428572, 'twist': 0.15, 'cher': 0.19148936170212766, '70': 0.9354838709677419, 'table': 0.25806451612903225, 'shes': 0.18518518518518517, 'cut': 0.3761467889908257, 'el': 0.41854475209272374, '13': 0.6493506493506493, 'cord': 0.5, 'thi': 0.2826086956521739, 'chan': 0.3853211009174312, 'caused': 0.8787878787878788, 'div': 0.36666666666666664, 'rq': 0.4528301886792453, '3p': 0.375, 'hat': 0.33157894736842103, 'wk': 0.35, 'ball': 0.16981132075471697, 'pan': 0.48518518518518516, 'suicide': 0.9259259259259259, 'apocalypse': 0.25, 'cu': 0.49923664122137407, 'wit': 0.29605263157894735, 'think': 0.22448979591836735, 'parent': 0.36363636363636365, 'avi': 0.582089552238806, 'pea': 0.449438202247191, 'ask': 0.37254901960784315, 'id': 0.5135344160866203, 'nearby': 0.48148148148148145, 'sw': 0.5422885572139303, 'affected': 0.9696969696969697, 'jp': 0.5178571428571429, 'good': 0.23711340206185566, 'col': 0.517467248908297, 'tj': 0.5106382978723404, 'ear': 0.550251256281407, 'devastated': 0.7209302325581395, 'gm': 0.37662337662337664, 'send': 0.3333333333333333, 'fort': 0.25, 'mag': 0.42021276595744683, 'warning': 0.9615384615384616, 'tire': 0.2777777777777778, 'ink': 0.3228346456692913, '41': 0.48717948717948717, 'cross': 0.3253012048192771, 'ib': 0.5564516129032258, 'unit': 0.47540983606557374, 'rush': 0.17567567567567569, '03': 0.6904761904761905, 'memory': 0.8, 'ab': 0.48098859315589354, 'invest': 0.835820895522388, 'bleed': 0.13513513513513514, 'dam': 0.575, 'bombed': 0.48717948717948717, 'isla': 0.8, 'sent': 0.4, 'every': 0.27741935483870966, 'youre': 0.12903225806451613, '22': 0.48484848484848486, 'xd': 0.4339622641509434, 'full': 0.1724137931034483, 'twitter': 0.2571428571428571, 'shot': 0.6111111111111112, 'lga': 0.7317073170731707, 'tragedy': 0.6486486486486487, 'ran': 0.5165394402035624, 'yh': 0.3670886075949367, 'made': 0.2857142857142857, 'please': 0.3181818181818182, 'ton': 0.47619047619047616, 'reactor': 0.48148148148148145, 'annihilate': 0.26666666666666666, 'germ': 0.5333333333333333, 'ill': 0.6075949367088608, '32': 0.3793103448275862, 'gettin': 0.2982456140350877, 'flat': 0.14634146341463414, 'chem': 0.45454545454545453, 'o': 0.43514761438365746, 'base': 0.25, 'riot': 0.5384615384615384, 'raft': 0.5853658536585366, 'co2': 0.5301204819277109, 'rig': 0.34375, 'guy': 0.20833333333333334, 'ron': 0.3986013986013986, 'lab': 0.6307692307692307, 'sing': 0.5328947368421053, 'israel': 0.9090909090909091, 'di': 0.5278571428571428, 'sp': 0.5183016105417276, 'thing': 0.2554347826086957, 'civil': 0.7777777777777778, 'lt': 0.4900990099009901, 'lance': 0.52, 'force': 0.625, 'heart': 0.3148148148148148, 'lava': 0.12903225806451613, 'wrecked': 0.07692307692307693, 'vest': 0.76, 'here': 0.44565217391304346, 'wanna': 0.16666666666666666, 'rave': 0.5517241379310345, 'use': 0.532608695652174, 'indi': 0.7428571428571429, 'poc': 0.26785714285714285, 'wy': 0.6233766233766234, 'calgary': 0.8666666666666667, 'atom': 0.9508196721311475, 'bu': 0.4716417910447761, '34': 0.3939393939393939, 'far': 0.4528301886792453, 'hostage': 0.6376811594202898, 'port': 0.6606334841628959, 'der': 0.547945205479452, 'rid': 0.6239316239316239, 'ser': 0.44660194174757284, 'terrorist': 0.8043478260869565, 'airport': 0.967741935483871, 'miss': 0.5977011494252874, 'destroy': 0.38144329896907214, 'loud': 0.22950819672131148, 'without': 0.24489795918367346, 'us': 0.5119322555812164, 'blaze': 0.38461538461538464, 'sul': 0.5333333333333333, 'going': 0.2815533980582524, 'eh': 0.5540540540540541, 'gin': 0.4648648648648649, 'eyewitness': 0.41935483870967744, 'survived': 0.358974358974359, 'eb': 0.44983818770226536, 'roll': 0.5294117647058824, 'nothing': 0.21875, 'explode': 0.22077922077922077, 'migrant': 1.0, 'kno': 0.281437125748503, 'derail': 0.7745098039215687, 'everyone': 0.27586206896551724, 'rp': 0.6473988439306358, 'esh': 0.6774193548387096, 'rin': 0.3386454183266932, 'et': 0.35980991174473864, 'acc': 0.5864197530864198, 'rule': 0.37037037037037035, 'ba': 0.3473581213307241, 'station': 0.75, 'mod': 0.390625, 'flooding': 0.7346938775510204, 't': 0.4382559774964838, 'mr': 0.49295774647887325, '8': 0.5532381997804611, 'host': 0.6144578313253012, 'net': 0.4375, 'doe': 0.3448275862068966, 'wen': 0.40476190476190477, 'remember': 0.38461538461538464, 'respond': 0.5294117647058824, 'bb': 0.4381443298969072, 'county': 0.8205128205128205, 'dec': 0.5833333333333334, '26': 0.5517241379310345, '97': 0.5925925925925926, 'cost': 0.68, 'fatal': 0.6377952755905512, 'pandemonium': 0.23529411764705882, 'mid': 0.6142857142857143, 'ge': 0.48286052009456265, 'first': 0.4537037037037037, 'wha': 0.36538461538461536, 'lane': 0.8241758241758241, 'air': 0.725, 'black': 0.2839506172839506, 'lol': 0.1518987341772152, 'pas': 0.5052631578947369, 'gon': 0.2537313432835821, 'tie': 0.5, 'pill': 0.8571428571428571, 'sl': 0.5204359673024523, 'issue': 0.7719298245614035, 'shar': 0.35555555555555557, 'met': 0.34108527131782945, 'kill': 0.850828729281768, 'ppl': 0.42857142857142855, 'rag': 0.6355140186915887, 'ip': 0.48578811369509045, 'ground': 0.4074074074074074, 'love': 0.13333333333333333, 'blow': 0.3333333333333333, 'pt': 0.565075034106412, 'lip': 0.4, 'dy': 0.334916864608076, 'op': 0.4692682926829268, 'like': 0.2474747474747475, 'del': 0.42073170731707316, 'bit': 0.23809523809523808, 'au': 0.48599670510708404, 'soni': 0.4827586206896552, 'tory': 0.5, 'war': 0.6339622641509434, 'street': 0.7575757575757576, 'fee': 0.1826086956521739, 'fun': 0.2804878048780488, 'baby': 0.35, 'evacuation': 0.8125, 'attack': 0.676056338028169, 'nu': 0.528, 'w': 0.4517167381974249, 'a1': 0.5897435897435898, 'hiroshima': 0.9887640449438202, 'action': 0.5135135135135135, 'lone': 0.45901639344262296, 'pc': 0.4069767441860465, 'man': 0.4403292181069959, 'ale': 0.5462184873949579, 'bn': 0.4444444444444444, 'calif': 0.9448818897637795, 'nb': 0.4479166666666667, 'ted': 0.5565476190476191, 'pat': 0.5463917525773195, 'bg': 0.5102040816326531, 'q': 0.498388136686009, 'using': 0.53125, 'land': 0.7098445595854922, 'thin': 0.25517241379310346, 'tat': 0.6261682242990654, 'nv': 0.6009615384615384, 'count': 0.7256637168141593, 'point': 0.5263157894736842, 'rent': 0.3854166666666667, 'leave': 0.4642857142857143, 'i5': 0.5862068965517241, 'around': 0.425, 'collapsed': 0.3888888888888889, 'h': 0.4554531490015361, 'helicopter': 0.9629629629629629, 'dc': 0.45454545454545453, 'favor': 0.10714285714285714, 'total': 0.30952380952380953, 'iot': 0.5804195804195804, 'fl': 0.5198329853862212, 'pro': 0.5030487804878049, 'act': 0.4444444444444444, 'wo': 0.39285714285714285, 'hijacking': 0.46875, 'win': 0.450354609929078, 'stu': 0.44, 'since': 0.5357142857142857, 'heal': 0.36585365853658536, 'light': 0.4472049689440994, 'hot': 0.42035398230088494, '39': 0.45454545454545453, 'danger': 0.30952380952380953, 'lan': 0.5882352941176471, 'ap': 0.498371335504886, 'mph': 0.6470588235294118, 'burned': 0.275, 'outbreak': 0.975, 'space': 0.43243243243243246, 'crashed': 0.6216216216216216, 'rest': 0.5578231292517006, 'via': 0.5625, 'look': 0.3935483870967742, 'loa': 0.23636363636363636, 'fear': 0.49411764705882355, 'oil': 0.6447368421052632, 'gov': 0.6410256410256411, 'family': 0.7428571428571429, 'sit': 0.5769230769230769, 'screamed': 0.1111111111111111, 'melt': 0.23076923076923078, 'pa': 0.47973609802073514, 'crush': 0.13043478260869565, 'mine': 0.41379310344827586, 'would': 0.2642857142857143, 'devastation': 0.7567567567567568, 'xv': 0.3269230769230769, 'cute': 0.2839506172839506, 'bat': 0.3170731707317073, 'great': 0.2727272727272727, 'lack': 0.32558139534883723, 'still': 0.4274193548387097, 'mud': 0.3023255813953488, 'survivor': 0.7441860465116279, 'arin': 0.4722222222222222, 'form': 0.4262295081967213, 'lose': 0.603448275862069, 'ship': 0.4945054945054945, 'island': 0.8780487804878049, 'blown': 0.16666666666666666, 'br': 0.49233128834355827, 'cool': 0.3181818181818182, 'emi': 0.4536082474226804, 'back': 0.31333333333333335, 'catastrophic': 0.7058823529411765, 'said': 0.4807692307692308, 'int': 0.38321167883211676, 'anna': 0.2391304347826087, 'bc': 0.5866666666666667, 'evacuated': 0.875, '200': 0.7045454545454546, 'fall': 0.4166666666666667, 'mp': 0.4328732747804266, 'shoot': 0.7142857142857143, 'hoo': 0.6294416243654822, 'best': 0.25806451612903225, 'uv': 0.43283582089552236, 'si': 0.5, 'ready': 0.32608695652173914, 'mount': 0.7560975609756098, 'report': 0.8157894736842105, 'member': 0.4482758620689655, 'zone': 0.3055555555555556, 'htt': 0.5449223721048613, 'g': 0.4447900466562986, 'ram': 0.4574468085106383, 'may': 0.4, 'ft': 0.46747967479674796, '21': 0.5151515151515151, 'flood': 0.7236842105263158, 'policy': 0.22580645161290322, 'released': 0.6829268292682927, 'placed': 0.6571428571428571, 'meltdown': 0.17647058823529413, 'collision': 0.7560975609756098, 'actual': 0.3235294117647059, 'song': 0.058823529411764705, 'wash': 0.8125, 'gt': 0.46258503401360546, 'start': 0.23880597014925373, 'def': 0.2926829268292683, 'nyt': 0.42424242424242425, 'cm': 0.4426229508196721, 'case': 0.6842105263157895, 'grow': 0.5806451612903226, 'shed': 0.3879310344827586, 'app': 0.403921568627451, 'didnt': 0.3225806451612903, 'log': 0.323943661971831, 'osp': 0.5, 'tv': 0.3246753246753247, 'government': 0.6451612903225806, 'leg': 0.6608695652173913, 'bioterror': 0.6491228070175439, 'pol': 0.5665236051502146, 'rescued': 0.5128205128205128, 'show': 0.273972602739726, 'cover': 0.4107142857142857, 'cia': 0.48314606741573035, 'anniversary': 0.9411764705882353, 'making': 0.2413793103448276, 'low': 0.4844961240310077, 'accident': 0.7281553398058253, 'fe': 0.40186915887850466, 'ha': 0.3881578947368421, 'seismic': 0.5185185185185185, 'd': 0.4447634879854919, 'snowstorm': 0.4642857142857143, 'va': 0.5238095238095238, 'structural': 0.6666666666666666, 'contr': 0.5116279069767442, 'electrocuted': 0.38235294117647056, 'disea': 0.8974358974358975, 'fighter': 0.6666666666666666, 'mess': 0.39285714285714285, 'wait': 0.32608695652173914, 'tee': 0.3, 'eu': 0.7014925373134329, 'crew': 0.8275862068965517, 'massacre': 0.7714285714285715, 'disaster': 0.7122302158273381, 'wed': 0.5894736842105263, 'tha': 0.3695652173913043, 'eve': 0.39792387543252594, 'never': 0.25757575757575757, 'box': 0.2413793103448276, 'oi': 0.4338919925512104, 'sq': 0.6206896551724138, 'friend': 0.19642857142857142, 'arti': 0.4444444444444444, 'sink': 0.4675324675324675, 'national': 0.5, 'reason': 0.25806451612903225, 'goin': 0.27884615384615385, '30': 0.5614035087719298, 'lim': 0.6081081081081081, 'health': 0.4375, 'ud': 0.4872448979591837, 'sh': 0.47180585296216987, 'get': 0.32054794520547947, 'rub': 0.34146341463414637, 'spec': 0.6129032258064516, 'ssu': 0.6835443037974683, 'belie': 0.3783783783783784, 'ppor': 0.4838709677419355, '2': 0.5278001611603546, 'omg': 0.5185185185185185, 'news': 0.7352941176470589, 'sub': 0.2549019607843137, 'whole': 0.43243243243243246, 'gd': 0.5227272727272727, 'np': 0.5, 'hoc': 0.21052631578947367, 'emerg': 0.4968152866242038, 'po': 0.514760147601476, 'crushed': 0.13333333333333333, 'ml': 0.5223880597014925, 'bagging': 0.15151515151515152, 'eric': 0.6268656716417911, 'error': 0.73125, 'abc': 0.9642857142857143, 'rock': 0.6037735849056604, 'dat': 0.39473684210526316, 'weather': 0.7857142857142857, '6c': 0.5333333333333333, 'river': 0.5555555555555556, '150': 0.7575757575757576, 'make': 0.24545454545454545, 'tech': 0.28125, 'quarantined': 0.3611111111111111, 'colo': 0.3684210526315789, 'ina': 0.378698224852071, 'cam': 0.4845360824742268, 'bombing': 0.96, 'bus': 0.5755395683453237, 'ii': 0.5555555555555556, 'ke': 0.3736413043478261, 'f': 0.4576957695769577, 'pir': 0.21875, 'ep': 0.4411764705882353, 'change': 0.3620689655172414, 'sin': 0.48717948717948717, 'mic': 0.6237623762376238}\n"
     ]
    }
   ],
   "source": [
    "wordScore = {}\n",
    "\n",
    "for word in uniqueWords:\n",
    "    if wordCount[word] >= average:\n",
    "        wordScore[word] = wordDict[word]/wordCount[word]\n",
    "\n",
    "print(wordScore)\n"
   ]
  },
  {
   "cell_type": "markdown",
   "metadata": {},
   "source": [
    "Spacer"
   ]
  },
  {
   "cell_type": "markdown",
   "metadata": {},
   "source": []
  },
  {
   "cell_type": "markdown",
   "metadata": {},
   "source": []
  },
  {
   "cell_type": "code",
   "execution_count": 175,
   "metadata": {},
   "outputs": [
    {
     "name": "stderr",
     "output_type": "stream",
     "text": [
      "/var/folders/mp/60r0v21d3bn_1j9h07mqxny00000gn/T/ipykernel_63154/1712868305.py:1: FutureWarning: The frame.append method is deprecated and will be removed from pandas in a future version. Use pandas.concat instead.\n",
      "  combine = train.append(test, ignore_index=True)\n"
     ]
    },
    {
     "data": {
      "text/plain": [
       "(10876, 5)"
      ]
     },
     "execution_count": 175,
     "metadata": {},
     "output_type": "execute_result"
    }
   ],
   "source": [
    "combine = train.append(test, ignore_index=True)\n",
    "combine.shape"
   ]
  },
  {
   "cell_type": "code",
   "execution_count": 176,
   "metadata": {},
   "outputs": [
    {
     "data": {
      "text/plain": [
       "0                                                  deed reason earthquake may allah forgive u\n",
       "1                                                       forest fire near la ronge sask canada\n",
       "2       resident asked shelter place notified officer evacuation shelter place order expected\n",
       "3                                   13000 people receive wildfire evacuation order california\n",
       "4                                      got sent photo ruby alaska smoke wildfire pours school\n",
       "5    rockyfire update california hwy 20 closed direction due lake county fire cafire wildfire\n",
       "6          flood disaster heavy rain cause flash flooding street manitou colorado spring area\n",
       "7                                                                   im top hill see fire wood\n",
       "8                                 there emergency evacuation happening building across street\n",
       "9                                                               im afraid tornado coming area\n",
       "Name: text, dtype: object"
      ]
     },
     "execution_count": 176,
     "metadata": {},
     "output_type": "execute_result"
    }
   ],
   "source": [
    "combine['text'].head(10)"
   ]
  },
  {
   "cell_type": "code",
   "execution_count": 177,
   "metadata": {},
   "outputs": [
    {
     "name": "stderr",
     "output_type": "stream",
     "text": [
      "/var/folders/mp/60r0v21d3bn_1j9h07mqxny00000gn/T/ipykernel_63154/1889916352.py:2: FutureWarning: The default value of regex will change from True to False in a future version.\n",
      "  combine[\"text\"] = combine[\"text\"].str.replace('(@[\\w]*)|(https?:\\/\\/[A-Za-z0-9\\s]*\\.com\\/?)|(#)|([^a-zA-Z0-9\\s])|([R][T])','').str.lower()\n"
     ]
    },
    {
     "data": {
      "text/plain": [
       "0                                                  deed reason earthquake may allah forgive u\n",
       "1                                                       forest fire near la ronge sask canada\n",
       "2       resident asked shelter place notified officer evacuation shelter place order expected\n",
       "3                                   13000 people receive wildfire evacuation order california\n",
       "4                                      got sent photo ruby alaska smoke wildfire pours school\n",
       "5    rockyfire update california hwy 20 closed direction due lake county fire cafire wildfire\n",
       "6          flood disaster heavy rain cause flash flooding street manitou colorado spring area\n",
       "7                                                                   im top hill see fire wood\n",
       "8                                 there emergency evacuation happening building across street\n",
       "9                                                               im afraid tornado coming area\n",
       "Name: text, dtype: object"
      ]
     },
     "execution_count": 177,
     "metadata": {},
     "output_type": "execute_result"
    }
   ],
   "source": [
    "clean_pattern = re.compile(r'(@[\\w]*)|(https?:\\/\\/t\\.co\\/.+)|(#)|([^a-zA-Z0-9\\s])|([R][T])')\n",
    "combine[\"text\"] = combine[\"text\"].str.replace('(@[\\w]*)|(https?:\\/\\/[A-Za-z0-9\\s]*\\.com\\/?)|(#)|([^a-zA-Z0-9\\s])|([R][T])','').str.lower()\n",
    "\n",
    "combine['text'].head(10)\n",
    "\n",
    "    "
   ]
  },
  {
   "cell_type": "markdown",
   "metadata": {},
   "source": [
    "STOP WORDS REMOVAL"
   ]
  },
  {
   "cell_type": "code",
   "execution_count": 178,
   "metadata": {},
   "outputs": [],
   "source": [
    "\",\".join(stopwords.words('english'))\n",
    "stops_words = set(stopwords.words('english'))"
   ]
  },
  {
   "cell_type": "code",
   "execution_count": 179,
   "metadata": {},
   "outputs": [],
   "source": [
    "combine['text'] = combine['text'].apply(lambda x: ' '.join([word for word in x.split() if word not in (stops_words)]))"
   ]
  },
  {
   "cell_type": "code",
   "execution_count": 180,
   "metadata": {},
   "outputs": [
    {
     "data": {
      "text/plain": [
       "0                                                  deed reason earthquake may allah forgive u\n",
       "1                                                       forest fire near la ronge sask canada\n",
       "2       resident asked shelter place notified officer evacuation shelter place order expected\n",
       "3                                   13000 people receive wildfire evacuation order california\n",
       "4                                      got sent photo ruby alaska smoke wildfire pours school\n",
       "5    rockyfire update california hwy 20 closed direction due lake county fire cafire wildfire\n",
       "6          flood disaster heavy rain cause flash flooding street manitou colorado spring area\n",
       "7                                                                   im top hill see fire wood\n",
       "8                                       emergency evacuation happening building across street\n",
       "9                                                               im afraid tornado coming area\n",
       "Name: text, dtype: object"
      ]
     },
     "execution_count": 180,
     "metadata": {},
     "output_type": "execute_result"
    }
   ],
   "source": [
    "combine['text'].head(10)"
   ]
  },
  {
   "cell_type": "markdown",
   "metadata": {},
   "source": [
    "Lemmatization"
   ]
  },
  {
   "cell_type": "code",
   "execution_count": 181,
   "metadata": {},
   "outputs": [
    {
     "data": {
      "text/plain": [
       "0                                                  deed reason earthquake may allah forgive u\n",
       "1                                                       forest fire near la ronge sask canada\n",
       "2       resident asked shelter place notified officer evacuation shelter place order expected\n",
       "3                                   13000 people receive wildfire evacuation order california\n",
       "4                                      got sent photo ruby alaska smoke wildfire pours school\n",
       "5    rockyfire update california hwy 20 closed direction due lake county fire cafire wildfire\n",
       "6          flood disaster heavy rain cause flash flooding street manitou colorado spring area\n",
       "7                                                                   im top hill see fire wood\n",
       "8                                       emergency evacuation happening building across street\n",
       "9                                                               im afraid tornado coming area\n",
       "Name: text, dtype: object"
      ]
     },
     "execution_count": 181,
     "metadata": {},
     "output_type": "execute_result"
    }
   ],
   "source": [
    "from nltk.stem import WordNetLemmatizer, PorterStemmer \n",
    "stemmer = PorterStemmer()\n",
    "wnl = WordNetLemmatizer()\n",
    "\n",
    "combine['text'] = combine['text'].apply(lambda x: ' '.join([wnl.lemmatize(word) for word in x.split()]))\n",
    "combine['text'].head(10)"
   ]
  },
  {
   "cell_type": "markdown",
   "metadata": {},
   "source": [
    "STEMMING"
   ]
  },
  {
   "cell_type": "code",
   "execution_count": 182,
   "metadata": {},
   "outputs": [],
   "source": [
    "\n",
    "#wnl.lemmatize(combine['text']) if wnl.lemmatize(combine['text']).endswith('e')  else stemmer.stem(combine['text'])\n",
    "\n",
    "#combine['text'] = combine['text'].apply(lambda x: ' '.join([stemmer.stem(word) for word in x.split()]))"
   ]
  },
  {
   "cell_type": "code",
   "execution_count": 183,
   "metadata": {},
   "outputs": [
    {
     "name": "stdout",
     "output_type": "stream",
     "text": [
      "Requirement already satisfied: gensim in /Library/Frameworks/Python.framework/Versions/3.10/lib/python3.10/site-packages (4.2.0)\n",
      "Requirement already satisfied: numpy>=1.17.0 in /Library/Frameworks/Python.framework/Versions/3.10/lib/python3.10/site-packages (from gensim) (1.23.3)\n",
      "Requirement already satisfied: scipy>=0.18.1 in /Library/Frameworks/Python.framework/Versions/3.10/lib/python3.10/site-packages (from gensim) (1.9.3)\n",
      "Requirement already satisfied: smart-open>=1.8.1 in /Library/Frameworks/Python.framework/Versions/3.10/lib/python3.10/site-packages (from gensim) (6.2.0)\n",
      "\u001b[33mWARNING: You are using pip version 22.0.4; however, version 22.3.1 is available.\n",
      "You should consider upgrading via the '/usr/local/bin/python3 -m pip install --upgrade pip' command.\u001b[0m\u001b[33m\n",
      "\u001b[0mNote: you may need to restart the kernel to use updated packages.\n"
     ]
    }
   ],
   "source": [
    "pip install gensim"
   ]
  },
  {
   "cell_type": "code",
   "execution_count": 184,
   "metadata": {},
   "outputs": [
    {
     "name": "stdout",
     "output_type": "stream",
     "text": [
      "Requirement already satisfied: scikit-learn in /Library/Frameworks/Python.framework/Versions/3.10/lib/python3.10/site-packages (1.1.3)\n",
      "Requirement already satisfied: threadpoolctl>=2.0.0 in /Library/Frameworks/Python.framework/Versions/3.10/lib/python3.10/site-packages (from scikit-learn) (3.1.0)\n",
      "Requirement already satisfied: joblib>=1.0.0 in /Library/Frameworks/Python.framework/Versions/3.10/lib/python3.10/site-packages (from scikit-learn) (1.1.0)\n",
      "Requirement already satisfied: numpy>=1.17.3 in /Library/Frameworks/Python.framework/Versions/3.10/lib/python3.10/site-packages (from scikit-learn) (1.23.3)\n",
      "Requirement already satisfied: scipy>=1.3.2 in /Library/Frameworks/Python.framework/Versions/3.10/lib/python3.10/site-packages (from scikit-learn) (1.9.3)\n",
      "\u001b[33mWARNING: You are using pip version 22.0.4; however, version 22.3.1 is available.\n",
      "You should consider upgrading via the '/usr/local/bin/python3 -m pip install --upgrade pip' command.\u001b[0m\u001b[33m\n",
      "\u001b[0mNote: you may need to restart the kernel to use updated packages.\n"
     ]
    }
   ],
   "source": [
    "pip install -U scikit-learn"
   ]
  },
  {
   "cell_type": "code",
   "execution_count": 185,
   "metadata": {},
   "outputs": [],
   "source": [
    "from sklearn.feature_extraction.text import TfidfVectorizer, CountVectorizer\n",
    "import gensim"
   ]
  },
  {
   "cell_type": "code",
   "execution_count": 186,
   "metadata": {},
   "outputs": [
    {
     "data": {
      "text/plain": [
       "(10876, 3000)"
      ]
     },
     "execution_count": 186,
     "metadata": {},
     "output_type": "execute_result"
    }
   ],
   "source": [
    "bow_vectorizer = CountVectorizer(max_df=0.90, min_df=2, max_features=3000, stop_words='english')\n",
    "bow = bow_vectorizer.fit_transform(combine['text'])\n",
    "bow.shape"
   ]
  },
  {
   "cell_type": "code",
   "execution_count": 187,
   "metadata": {},
   "outputs": [],
   "source": [
    "combine = combine.fillna(0)\n",
    "from sklearn.model_selection import train_test_split\n",
    "xtrain, xtest, ytrain, ytest = train_test_split(bow, combine['target'], random_state=69, test_size=0.3)"
   ]
  },
  {
   "cell_type": "code",
   "execution_count": 188,
   "metadata": {},
   "outputs": [
    {
     "name": "stdout",
     "output_type": "stream",
     "text": [
      "xtrain shape:  (7613, 3000)\n",
      "xtest shape:  (3263, 3000)\n",
      "ytrain shape:  (7613,)\n",
      "ytest shape:  (3263,)\n"
     ]
    }
   ],
   "source": [
    "print(\"xtrain shape: \", xtrain.shape)\n",
    "print(\"xtest shape: \", xtest.shape)\n",
    "print(\"ytrain shape: \", ytrain.shape)\n",
    "print(\"ytest shape: \", ytest.shape)"
   ]
  },
  {
   "cell_type": "code",
   "execution_count": 189,
   "metadata": {},
   "outputs": [],
   "source": [
    "from sklearn.naive_bayes import MultinomialNB\n",
    "\n",
    "model_naive = MultinomialNB().fit(xtrain, ytrain)\n",
    "prediction_naive = model_naive.predict(xtest)"
   ]
  },
  {
   "cell_type": "code",
   "execution_count": 190,
   "metadata": {},
   "outputs": [
    {
     "data": {
      "image/png": "[encoded data removed]",
      "text/plain": [
       "<Figure size 640x480 with 1 Axes>"
      ]
     },
     "metadata": {},
     "output_type": "display_data"
    }
   ],
   "source": [
    "plt.title(\"Confusion Matrix\")\n",
    "plt.xlabel(\"true label\")\n",
    "plt.ylabel(\"predicted label\")\n",
    "plt.savefig(\"confusion_matrix.png\")\n",
    "plt.show()"
   ]
  },
  {
   "cell_type": "code",
   "execution_count": null,
   "metadata": {},
   "outputs": [],
   "source": []
  },
  {
   "cell_type": "code",
   "execution_count": 191,
   "metadata": {},
   "outputs": [],
   "source": [
    "#https://www.youtube.com/watch?v=MA5nwEd9hKY&t=880s&ab_channel=Techopedia\n",
    "\n",
    "#19:29"
   ]
  },
  {
   "cell_type": "code",
   "execution_count": null,
   "metadata": {},
   "outputs": [],
   "source": []
  }
 ],
 "metadata": {
  "kernelspec": {
   "display_name": "Python 3.10.5 64-bit",
   "language": "python",
   "name": "python3"
  },
  "language_info": {
   "codemirror_mode": {
    "name": "ipython",
    "version": 3
   },
   "file_extension": ".py",
   "mimetype": "text/x-python",
   "name": "python",
   "nbconvert_exporter": "python",
   "pygments_lexer": "ipython3",
   "version": "3.10.5"
  },
  "orig_nbformat": 4,
  "vscode": {
   "interpreter": {
    "hash": "aee8b7b246df8f9039afb4144a1f6fd8d2ca17a180786b69acc140d282b71a49"
   }
  }
 },
 "nbformat": 4,
 "nbformat_minor": 2
}
